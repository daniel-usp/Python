{
  "cells": [
    {
      "cell_type": "markdown",
      "metadata": {
        "id": "view-in-github",
        "colab_type": "text"
      },
      "source": [
        "<a href=\"https://colab.research.google.com/github/daniel-usp/Python/blob/main/Opera%C3%A7%C3%B5es_com_String.ipynb\" target=\"_parent\"><img src=\"https://colab.research.google.com/assets/colab-badge.svg\" alt=\"Open In Colab\"/></a>"
      ]
    },
    {
      "cell_type": "markdown",
      "metadata": {
        "id": "zPfbCyC-5i5G"
      },
      "source": [
        "# Operações com String\n",
        "\n",
        "str -> transforma número em string<br>\n",
        "in -> verifica se um texto está contido dentro do outro<br>\n",
        "operador + -> concatenar string<br>\n",
        "format e {} -> substitui valores<br>\n",
        "%s -> substitui textos<br>\n",
        "%d -> substitui números decimais<br>\n",
        "\n",
        "Vamos deixar uma cartilha para download"
      ]
    },
    {
      "cell_type": "code",
      "execution_count": null,
      "metadata": {
        "id": "BB2RD6Kg5i5H"
      },
      "outputs": [],
      "source": [
        "faturamento = 2000\n",
        "custo = 500\n",
        "lucro = faturamento - custo"
      ]
    },
    {
      "cell_type": "markdown",
      "metadata": {
        "id": "jZ9v77wp5i5H"
      },
      "source": [
        "Uso do str() e do concatenar com +"
      ]
    },
    {
      "cell_type": "code",
      "execution_count": null,
      "metadata": {
        "id": "ErTppG6q5i5I",
        "outputId": "409ae1c3-3059-4e2e-bd6c-2acf3b392651"
      },
      "outputs": [
        {
          "name": "stdout",
          "output_type": "stream",
          "text": [
            "O faturamento da loja foi de: 1000 O custo foi de 500 O lucro foi de 500\n"
          ]
        }
      ],
      "source": [
        "print ('O faturamento da loja foi de: ' + str(faturamento) + ' O custo foi de ' + str(custo) + ' O lucro foi de ' + str(lucro))"
      ]
    },
    {
      "cell_type": "markdown",
      "metadata": {
        "id": "k9cg1WeC5i5I"
      },
      "source": [
        "Uso do Format"
      ]
    },
    {
      "cell_type": "code",
      "execution_count": null,
      "metadata": {
        "id": "TD8NZSKQ5i5I",
        "outputId": "610a7ca3-a85c-4801-e4ea-e3f011087764"
      },
      "outputs": [
        {
          "name": "stdout",
          "output_type": "stream",
          "text": [
            "O faturamento foi de: 2000. O custo foi de 500 e o Lucro foi de 1500. Lembrando, o faturamento foi de 2000\n"
          ]
        }
      ],
      "source": [
        "print('O faturamento foi de: {0}. O custo foi de {1} e o Lucro foi de {2}. Lembrando, o faturamento foi de {0}'.format(faturamento, custo, lucro))"
      ]
    },
    {
      "cell_type": "markdown",
      "metadata": {
        "id": "lqK91npm5i5J"
      },
      "source": [
        "Uso do %s e %d"
      ]
    },
    {
      "cell_type": "code",
      "execution_count": null,
      "metadata": {
        "id": "Vs5tkD9i5i5J",
        "outputId": "ba0d040e-1c33-433d-aede-46de4a94ef7a"
      },
      "outputs": [
        {
          "name": "stdout",
          "output_type": "stream",
          "text": [
            "O faturamento foi de: 2000. O custo foi de 500 e o Lucro foi de 1500\n"
          ]
        }
      ],
      "source": [
        "print ('O faturamento foi de: %d. O custo foi de %d e o Lucro foi de %d' % (faturamento, custo, lucro))"
      ]
    },
    {
      "cell_type": "markdown",
      "metadata": {
        "id": "ItX-IbBU5i5J"
      },
      "source": [
        "Uso do in "
      ]
    },
    {
      "cell_type": "code",
      "execution_count": null,
      "metadata": {
        "id": "7pgrrONq5i5K",
        "outputId": "82818dee-fa5c-43b8-97e5-1b7b99b9765f"
      },
      "outputs": [
        {
          "name": "stdout",
          "output_type": "stream",
          "text": [
            "True\n",
            "False\n"
          ]
        }
      ],
      "source": [
        "print('@' in 'lira@gmail.com')\n",
        "print('@' in 'lira.gmail.com')"
      ]
    }
  ],
  "metadata": {
    "kernelspec": {
      "display_name": "Python 3",
      "language": "python",
      "name": "python3"
    },
    "language_info": {
      "codemirror_mode": {
        "name": "ipython",
        "version": 3
      },
      "file_extension": ".py",
      "mimetype": "text/x-python",
      "name": "python",
      "nbconvert_exporter": "python",
      "pygments_lexer": "ipython3",
      "version": "3.8.3"
    },
    "colab": {
      "name": "Operações com String.ipynb",
      "provenance": [],
      "include_colab_link": true
    }
  },
  "nbformat": 4,
  "nbformat_minor": 0
}