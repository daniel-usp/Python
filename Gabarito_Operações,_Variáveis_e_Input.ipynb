{
  "cells": [
    {
      "cell_type": "markdown",
      "metadata": {
        "id": "view-in-github",
        "colab_type": "text"
      },
      "source": [
        "<a href=\"https://colab.research.google.com/github/daniel-usp/Python/blob/main/Gabarito_Opera%C3%A7%C3%B5es%2C_Vari%C3%A1veis_e_Input.ipynb\" target=\"_parent\"><img src=\"https://colab.research.google.com/assets/colab-badge.svg\" alt=\"Open In Colab\"/></a>"
      ]
    },
    {
      "cell_type": "markdown",
      "metadata": {
        "id": "sj5qZXTCuFDh"
      },
      "source": [
        "# Gabarito - Operações, Variáveis e Input"
      ]
    },
    {
      "cell_type": "markdown",
      "metadata": {
        "id": "1AGgu2W9uFDj"
      },
      "source": [
        "### Parte 1 - Operações e Variáveis\n",
        "Crie um programa que imprima (print) os principais indicadores da loja Hashtag&Drink no último ano.\n",
        "Obs: faça tudo usando variáveis.\n",
        "\n",
        "Valores do último ano:\n",
        "\n",
        "Quantidade de Vendas de Coca = 150<br>\n",
        "Quantidade de Vendas de Pepsi = 130<br>\n",
        "Preço Unitário da Coca = 1,50 <br>\n",
        "Preço Unitário da Pepsi = 1,50 <br>\n",
        "Custo da Loja: 2.500,00\n",
        "\n",
        "Use o bloco abaixo para criar todas as variáveis que precisar."
      ]
    },
    {
      "cell_type": "code",
      "execution_count": null,
      "metadata": {
        "id": "4z2TET9JuFDk"
      },
      "outputs": [],
      "source": [
        "qtde_coca = 150\n",
        "qtde_pepsi = 130\n",
        "preco_coca = 1.50\n",
        "preco_pepsi = 1.50\n",
        "custo = 2500"
      ]
    },
    {
      "cell_type": "markdown",
      "metadata": {
        "id": "7sn6gnBsuFDl"
      },
      "source": [
        "1. Qual foi o faturamento de Pepsi da Loja?"
      ]
    },
    {
      "cell_type": "code",
      "execution_count": null,
      "metadata": {
        "id": "R6RvsREzuFDl",
        "outputId": "c1769f39-cbae-451a-ca0b-a08bd1d95248"
      },
      "outputs": [
        {
          "name": "stdout",
          "output_type": "stream",
          "text": [
            "195.0\n"
          ]
        }
      ],
      "source": [
        "print(qtde_pepsi * preco_pepsi)"
      ]
    },
    {
      "cell_type": "markdown",
      "metadata": {
        "id": "fITDYOxUuFDm"
      },
      "source": [
        "2. Qual foi o faturamento de Coca da Loja?"
      ]
    },
    {
      "cell_type": "code",
      "execution_count": null,
      "metadata": {
        "id": "cP3l7wgMuFDn",
        "outputId": "014b6915-84a3-473e-ad34-fec2559766e5"
      },
      "outputs": [
        {
          "name": "stdout",
          "output_type": "stream",
          "text": [
            "225.0\n"
          ]
        }
      ],
      "source": [
        "print(qtde_coca * preco_coca)"
      ]
    },
    {
      "cell_type": "markdown",
      "metadata": {
        "id": "rtCO-EAIuFDo"
      },
      "source": [
        "3. Qual foi o Lucro da loja?"
      ]
    },
    {
      "cell_type": "code",
      "execution_count": null,
      "metadata": {
        "id": "KsKIX79yuFDo",
        "outputId": "8f0fb234-9150-4932-9a11-b3baf8225793"
      },
      "outputs": [
        {
          "name": "stdout",
          "output_type": "stream",
          "text": [
            "-2080.0\n"
          ]
        }
      ],
      "source": [
        "faturamento = qtde_coca * preco_coca + qtde_pepsi * preco_pepsi\n",
        "lucro = faturamento - custo\n",
        "print(lucro)"
      ]
    },
    {
      "cell_type": "markdown",
      "metadata": {
        "id": "wnjq_4bFuFDp"
      },
      "source": [
        "4. Qual foi a Margem da Loja? (Lembre-se, margem = Lucro / Faturamento). Não precisa formatar em percentual"
      ]
    },
    {
      "cell_type": "code",
      "execution_count": null,
      "metadata": {
        "id": "Q16pvnTfuFDq",
        "outputId": "3cad1987-0a9a-40a6-f582-6f0a0f338e2e"
      },
      "outputs": [
        {
          "name": "stdout",
          "output_type": "stream",
          "text": [
            "-4.9523809523809526\n"
          ]
        }
      ],
      "source": [
        "print(lucro / faturamento)"
      ]
    },
    {
      "cell_type": "markdown",
      "metadata": {
        "id": "FdrgDBQeuFDq"
      },
      "source": [
        "### Parte 2 - Inputs e Strings"
      ]
    },
    {
      "cell_type": "markdown",
      "metadata": {
        "id": "27liAKc3uFDr"
      },
      "source": [
        "A maioria das empresas trabalham com um Código para cada produto que possuem. A Hashtag&Drink, por exemplo, tem mais de 1.000 produtos e possui um código para cada produto.\n",
        "Ex: <br>\n",
        "Coca -> Código: BEB1300543<br>\n",
        "Pepsi -> Código: BEB1300545<br>\n",
        "Vinho Primitivo Lucarelli -> Código: BAC1546001<br>\n",
        "Vodka Smirnoff -> Código: BAC17675002<br>\n",
        "\n",
        "Repare que todas as bebidas não alcóolicas tem o início do Código \"BEB\" e todas as bebidas alcóolicas tem o início do código \"BAC\".\n",
        "\n",
        "Crie um programa de consulta de bebida que, dado um código qualquer, identifique se a bebida é alcóolica. O programa deve responder True para bebidas alcóolicas e False para bebidas não alcóolicas. Para inserir um código, use um input.\n",
        "\n",
        "Dica: Lembre-se do comando in para strings e sempre insira os códigos com letra maiúscula para facilitar."
      ]
    },
    {
      "cell_type": "code",
      "execution_count": null,
      "metadata": {
        "id": "LCu3cykQuFDr",
        "outputId": "87e7ce55-aa98-435c-fdb6-9c2657251aba"
      },
      "outputs": [
        {
          "name": "stdout",
          "output_type": "stream",
          "text": [
            "Qual é o código da bebida? (Insira tudo em letra maiúscula):BAC1546001\n",
            "True\n"
          ]
        }
      ],
      "source": [
        "codigo = input(\"Qual é o código da bebida? (Insira tudo em letra maiúscula):\")\n",
        "print(\"BAC\" in codigo)"
      ]
    }
  ],
  "metadata": {
    "kernelspec": {
      "display_name": "Python 3",
      "language": "python",
      "name": "python3"
    },
    "language_info": {
      "codemirror_mode": {
        "name": "ipython",
        "version": 3
      },
      "file_extension": ".py",
      "mimetype": "text/x-python",
      "name": "python",
      "nbconvert_exporter": "python",
      "pygments_lexer": "ipython3",
      "version": "3.8.3"
    },
    "colab": {
      "name": "Gabarito - Operações, Variáveis e Input.ipynb",
      "provenance": [],
      "include_colab_link": true
    }
  },
  "nbformat": 4,
  "nbformat_minor": 0
}