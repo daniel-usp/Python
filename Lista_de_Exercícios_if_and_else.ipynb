{
  "cells": [
    {
      "cell_type": "markdown",
      "metadata": {
        "id": "view-in-github",
        "colab_type": "text"
      },
      "source": [
        "<a href=\"https://colab.research.google.com/github/daniel-usp/Python/blob/main/Lista_de_Exerc%C3%ADcios_if_and_else.ipynb\" target=\"_parent\"><img src=\"https://colab.research.google.com/assets/colab-badge.svg\" alt=\"Open In Colab\"/></a>"
      ]
    },
    {
      "cell_type": "markdown",
      "metadata": {
        "id": "1n6o1v4j2o08"
      },
      "source": [
        "# Exercícios com if"
      ]
    },
    {
      "cell_type": "markdown",
      "metadata": {
        "id": "vYB-ayFz2o09"
      },
      "source": [
        "## 1. Cálculo de Bônus\n",
        "\n",
        "- Crie um programa que calcule e dê um print no bônus que os funcionários devem receber segundo a regra:\n",
        "\n",
        "A meta é 1000 vendas.<br> \n",
        "Se o valor de vendas for maior ou igual a meta, o valor do bônus do funcionário é 10% do valor de vendas.<br>\n",
        "Caso contrário o valor de bônus do funcionário é 0.<br>\n",
        "Print o bônus dos 3 funcionários"
      ]
    },
    {
      "cell_type": "code",
      "execution_count": null,
      "metadata": {
        "id": "Wqy-KmvT2o0-"
      },
      "outputs": [],
      "source": [
        "vendas_funcionario1 = 1000\n",
        "vendas_funcionario2 = 770\n",
        "vendas_funcionario3 = 2700\n",
        "\n",
        "#crie seu código aqui"
      ]
    },
    {
      "cell_type": "raw",
      "metadata": {
        "id": "IWddxTcz2o0-"
      },
      "source": [
        "Resposta:\n",
        "O funcionário 1 ganhou 100 de bônus\n",
        "O funcionário 2 ganhou 0 de bônus\n",
        "O funcionário 3 ganhou 270 de bônus"
      ]
    },
    {
      "cell_type": "markdown",
      "metadata": {
        "id": "V6y42WB12o0-"
      },
      "source": [
        "## 2. Cálculo de bônus com uma nova regra\n",
        "\n",
        "- Agora, crie um novo código que calcule e dê um print no bônus dos funcionários novamente. Porém há uma nova regra nesse 2º caso:\n",
        "\n",
        "A meta é 1000 vendas<br>\n",
        "Agora, os funcionários que venderem muito acima da meta ganham mais bônus do que os outros. Então o bônus é definido da seguinte forma:<br>\n",
        "\n",
        "- Se vendas funcionário for maior ou igual a 2000, então o bônus é de 15% sobre o valor de vendas\n",
        "- Se vendas funcionário for menor do que 2000 e maior ou igual a 1000, então o bônus é de 10% sobre o valor de vendas\n",
        "- Se vendas funcionário for menos do que 1000 então o bônus do funcionário é de 0.\n",
        "\n",
        "Use as mesmas variáveis de vendas_funcionários"
      ]
    },
    {
      "cell_type": "code",
      "execution_count": null,
      "metadata": {
        "id": "kc5vdP_S2o0_"
      },
      "outputs": [],
      "source": [
        "#crie seu código aqui\n",
        "#obs: há 2 formas de fazer, com if dentro de if ou então com if e elif. Escolha a que você preferir"
      ]
    },
    {
      "cell_type": "raw",
      "metadata": {
        "id": "R_hmMXXo2o0_"
      },
      "source": [
        "Resposta:\n",
        "O funcionário 1 ganhou 100 de bônus\n",
        "O funcionário 2 ganhou 0 de bônus\n",
        "O funcionário 3 ganhou 405 de bônus"
      ]
    }
  ],
  "metadata": {
    "kernelspec": {
      "display_name": "Python 3",
      "language": "python",
      "name": "python3"
    },
    "language_info": {
      "codemirror_mode": {
        "name": "ipython",
        "version": 3
      },
      "file_extension": ".py",
      "mimetype": "text/x-python",
      "name": "python",
      "nbconvert_exporter": "python",
      "pygments_lexer": "ipython3",
      "version": "3.8.3"
    },
    "colab": {
      "name": "Lista de  Exercícios if and else.ipynb",
      "provenance": [],
      "include_colab_link": true
    }
  },
  "nbformat": 4,
  "nbformat_minor": 0
}