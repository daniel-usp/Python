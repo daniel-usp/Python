{
  "cells": [
    {
      "cell_type": "markdown",
      "metadata": {
        "id": "view-in-github",
        "colab_type": "text"
      },
      "source": [
        "<a href=\"https://colab.research.google.com/github/daniel-usp/Python/blob/main/Parte_1_Listas.ipynb\" target=\"_parent\"><img src=\"https://colab.research.google.com/assets/colab-badge.svg\" alt=\"Open In Colab\"/></a>"
      ]
    },
    {
      "cell_type": "markdown",
      "metadata": {
        "id": "4CoiXeIsMMjV"
      },
      "source": [
        "# Listas em Python\n",
        "\n",
        "## Estrutura:\n",
        "\n",
        "lista = [valor, valor, valor, valor, ...]\n",
        "\n",
        "lista[i] -> é o valor de índice i da lista. <br>\n",
        "Obs: Lembre que no python o índice começa em 0, então o primeiro item de uma lista é o item lista[0]\n",
        "\n",
        "Para substituir um valor de uma lista você pode fazer:<br>\n",
        "lista[i] = novo_valor\n",
        "\n",
        "Listas de Produtos de uma Loja:"
      ]
    },
    {
      "cell_type": "code",
      "execution_count": null,
      "metadata": {
        "id": "g8sRCFoqMMjZ"
      },
      "outputs": [],
      "source": [
        "produtos = ['tv', 'celular', 'mouse', 'teclado', 'tablet']"
      ]
    },
    {
      "cell_type": "markdown",
      "metadata": {
        "id": "E2jkFhY1MMja"
      },
      "source": [
        "Lista de Unidades Vendidas de cada Produto da Loja"
      ]
    },
    {
      "cell_type": "code",
      "execution_count": null,
      "metadata": {
        "id": "alwuCQtlMMjb"
      },
      "outputs": [],
      "source": [
        "vendas = [1000, 1500, 350, 270, 900]"
      ]
    },
    {
      "cell_type": "markdown",
      "metadata": {
        "id": "l0xfgC3nMMjb"
      },
      "source": [
        "### Nesse caso, as listas funcionam da seguinte forma:"
      ]
    },
    {
      "cell_type": "raw",
      "metadata": {
        "id": "2XLhutLRMMjc"
      },
      "source": [
        "produtos = ['tv', 'celular', 'mouse', 'teclado', 'tablet']\n",
        "              0 ,      1   ,    2   ,     3    ,     4   \n",
        "vendas = [  1000,    1500  ,   350  ,    270   ,    900  ]"
      ]
    },
    {
      "cell_type": "code",
      "execution_count": null,
      "metadata": {
        "id": "4wZbJS9cMMjc"
      },
      "outputs": [],
      "source": [
        ""
      ]
    },
    {
      "cell_type": "code",
      "execution_count": null,
      "metadata": {
        "id": "B2J-x04FMMjd"
      },
      "outputs": [],
      "source": [
        "texto = 'daniel@gmail.com'"
      ]
    }
  ],
  "metadata": {
    "kernelspec": {
      "display_name": "Python 3",
      "language": "python",
      "name": "python3"
    },
    "language_info": {
      "codemirror_mode": {
        "name": "ipython",
        "version": 3
      },
      "file_extension": ".py",
      "mimetype": "text/x-python",
      "name": "python",
      "nbconvert_exporter": "python",
      "pygments_lexer": "ipython3",
      "version": "3.8.3"
    },
    "colab": {
      "name": "Parte 1 - Listas.ipynb",
      "provenance": [],
      "include_colab_link": true
    }
  },
  "nbformat": 4,
  "nbformat_minor": 0
}