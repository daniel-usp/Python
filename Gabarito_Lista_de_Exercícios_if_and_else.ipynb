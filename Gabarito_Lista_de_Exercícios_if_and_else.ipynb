{
  "cells": [
    {
      "cell_type": "markdown",
      "metadata": {
        "id": "view-in-github",
        "colab_type": "text"
      },
      "source": [
        "<a href=\"https://colab.research.google.com/github/daniel-usp/Python/blob/main/Gabarito_Lista_de_Exerc%C3%ADcios_if_and_else.ipynb\" target=\"_parent\"><img src=\"https://colab.research.google.com/assets/colab-badge.svg\" alt=\"Open In Colab\"/></a>"
      ]
    },
    {
      "cell_type": "markdown",
      "metadata": {
        "id": "H9u0BUV33LDg"
      },
      "source": [
        "# Exercícios com if"
      ]
    },
    {
      "cell_type": "markdown",
      "metadata": {
        "id": "K72VYC1b3LDh"
      },
      "source": [
        "## 1. Cálculo de Bônus\n",
        "\n",
        "- Crie um programa que calcule e dê um print no bônus que os funcionários devem receber segundo a regra:\n",
        "\n",
        "A meta é 1000 vendas.<br> \n",
        "Se o valor de vendas for maior ou igual a meta, o valor do bônus do funcionário é 10% do valor de vendas.<br>\n",
        "Caso contrário o valor de bônus do funcionário é 0.<br>\n",
        "Print o bônus dos 3 funcionários"
      ]
    },
    {
      "cell_type": "code",
      "execution_count": 3,
      "metadata": {
        "id": "rx6L6snG3LDh",
        "outputId": "afe45039-249a-46ef-fcfa-d254513b5bdd",
        "colab": {
          "base_uri": "https://localhost:8080/"
        }
      },
      "outputs": [
        {
          "output_type": "stream",
          "name": "stdout",
          "text": [
            "O funcionário 1 ganhou 100.0 de bônus\n",
            "O funcionário 2 ganhou 0 de bônus\n",
            "O funcionário 3 ganhou 270.0 de bônus\n"
          ]
        }
      ],
      "source": [
        "vendas_funcionario1 = 1000\n",
        "vendas_funcionario2 = 770\n",
        "vendas_funcionario3 = 2700\n",
        "\n",
        "#crie seu código aqui\n",
        "if vendas_funcionario1 >= 1000:\n",
        "  bonus = vendas_funcionario1*0.10\n",
        "else:\n",
        "  bonus = 0\n",
        "print('O funcionário 1 ganhou {} de bônus'.format(bonus))\n",
        "\n",
        "if vendas_funcionario2 >= 1000:\n",
        "  bonus = vendas_funcionario2*0.10\n",
        "else:\n",
        "  bonus = 0\n",
        "print('O funcionário 2 ganhou {} de bônus'.format(bonus))\n",
        "\n",
        "if vendas_funcionario3 >= 1000:\n",
        "  bonus = vendas_funcionario3*0.10\n",
        "else:\n",
        "  bonus = 0\n",
        "print('O funcionário 3 ganhou {} de bônus'.format(bonus))\n",
        "  "
      ]
    },
    {
      "cell_type": "code",
      "source": [
        ""
      ],
      "metadata": {
        "id": "psTXA2jdLSPp"
      },
      "execution_count": null,
      "outputs": []
    },
    {
      "cell_type": "raw",
      "metadata": {
        "id": "bZUGBTHI3LDi"
      },
      "source": [
        "Resposta:\n",
        "O funcionário 1 ganhou 100 de bônus\n",
        "O funcionário 2 ganhou 0 de bônus\n",
        "O funcionário 3 ganhou 270 de bônus"
      ]
    },
    {
      "cell_type": "markdown",
      "metadata": {
        "id": "Y0IAvf7w3LDi"
      },
      "source": [
        "## 2. Cálculo de bônus com uma nova regra\n",
        "\n",
        "- Agora, crie um novo código que calcule e dê um print no bônus dos funcionários novamente. Porém há uma nova regra nesse 2º caso:\n",
        "\n",
        "A meta é 1000 vendas<br>\n",
        "Agora, os funcionários que venderem muito acima da meta ganham mais bônus do que os outros. Então o bônus é definido da seguinte forma:<br>\n",
        "\n",
        "- Se vendas funcionário for maior ou igual a 2000, então o bônus é de 15% sobre o valor de vendas\n",
        "- Se vendas funcionário for menor do que 2000 e maior ou igual a 1000, então o bônus é de 10% sobre o valor de vendas\n",
        "- Se vendas funcionário for menos do que 1000 então o bônus do funcionário é de 0.\n",
        "\n",
        "Use as mesmas variáveis de vendas_funcionários"
      ]
    },
    {
      "cell_type": "code",
      "source": [
        ""
      ],
      "metadata": {
        "id": "KCmoBo9WNCul"
      },
      "execution_count": null,
      "outputs": []
    },
    {
      "cell_type": "code",
      "execution_count": 11,
      "metadata": {
        "id": "S52GF5L83LDj",
        "outputId": "49bd9c0b-8b9a-4f34-a65f-dc2dc6ac13ad",
        "colab": {
          "base_uri": "https://localhost:8080/"
        }
      },
      "outputs": [
        {
          "output_type": "stream",
          "name": "stdout",
          "text": [
            "O funcionário 1 ganhou 0 de bônus\n",
            "O funcionário 1 ganhou 0 de bônus\n"
          ]
        }
      ],
      "source": [
        "#crie seu código aqui\n",
        "#obs: há 2 formas de fazer, com if dentro de if ou então com if e elif. Escolha a que você preferir\n",
        "vendas_funcionario1 = 400\n",
        "vendas_funcionario2 = 770\n",
        "vendas_funcionario3 = 2700\n",
        "\n",
        "if vendas_funcionario1 >= 2000:\n",
        "  bonus = vendas_funcionario1*0.15\n",
        "elif vendas_funcionario1 >= 1000:\n",
        "  bonus = vendas_funcionario1*0.10\n",
        "else:\n",
        "  bonus = 0\n",
        "print('O funcionário 1 ganhou {} de bônus'.format(bonus))\n",
        "\n",
        "\n",
        "if vendas_funcionario1 >= 2000:\n",
        "  bonus = vendas_funcionario1*0.15\n",
        "if (vendas_funcionario1 >=1000) and (vendas_funcionario1 < 2000):\n",
        "  bonus = vendas_funcionario1*0.10\n",
        "if vendas_funcionario1 < 1000:\n",
        "  bonus = 0\n",
        "print('O funcionário 1 ganhou {} de bônus'.format(bonus))\n"
      ]
    },
    {
      "cell_type": "raw",
      "metadata": {
        "id": "eS027XzM3LDj"
      },
      "source": [
        "Resposta:\n",
        "O funcionário 1 ganhou 100 de bônus\n",
        "O funcionário 2 ganhou 0 de bônus\n",
        "O funcionário 3 ganhou 405 de bônus"
      ]
    },
    {
      "cell_type": "code",
      "source": [
        "vendas = [100,120,150,170,200]\n",
        "def media(lista):\n",
        "  media = sum(lista) / len(lista)\n",
        "  return media"
      ],
      "metadata": {
        "id": "7q8-b2cnPTbD"
      },
      "execution_count": 17,
      "outputs": []
    },
    {
      "cell_type": "code",
      "source": [
        "def soma(lista):\n",
        "  return sum(lista)"
      ],
      "metadata": {
        "id": "K3ck3aDVQHWv"
      },
      "execution_count": 19,
      "outputs": []
    },
    {
      "cell_type": "code",
      "source": [
        "def std(lista):\n",
        "  erros_ao_quadrado = []\n",
        "  for venda in vendas:\n",
        "     \n",
        "  "
      ],
      "metadata": {
        "id": "pFN_r_PGQZbA",
        "outputId": "de03a6d8-9cb4-4628-a6d6-75f40a7d2161",
        "colab": {
          "base_uri": "https://localhost:8080/",
          "height": 164
        }
      },
      "execution_count": 22,
      "outputs": [
        {
          "output_type": "error",
          "ename": "NameError",
          "evalue": "ignored",
          "traceback": [
            "\u001b[0;31m---------------------------------------------------------------------------\u001b[0m",
            "\u001b[0;31mNameError\u001b[0m                                 Traceback (most recent call last)",
            "\u001b[0;32m<ipython-input-22-a5cbb6831122>\u001b[0m in \u001b[0;36m<module>\u001b[0;34m()\u001b[0m\n\u001b[0;32m----> 1\u001b[0;31m \u001b[0msd\u001b[0m\u001b[0;34m(\u001b[0m\u001b[0mvendas\u001b[0m\u001b[0;34m)\u001b[0m\u001b[0;34m\u001b[0m\u001b[0;34m\u001b[0m\u001b[0m\n\u001b[0m",
            "\u001b[0;31mNameError\u001b[0m: name 'sd' is not defined"
          ]
        }
      ]
    },
    {
      "cell_type": "code",
      "source": [
        "custos = [10,20,35]\n",
        "resultado = []\n",
        "for custo in custos:\n",
        "  resultado.append((custo - media(custos))**2)\n",
        "print((sum(resultado) / len(custos))**(1/2))"
      ],
      "metadata": {
        "id": "zT0Q0vRnQthw",
        "outputId": "634df86e-5d62-482b-9a68-b46e0142553e",
        "colab": {
          "base_uri": "https://localhost:8080/"
        }
      },
      "execution_count": 29,
      "outputs": [
        {
          "output_type": "stream",
          "name": "stdout",
          "text": [
            "10.274023338281626\n"
          ]
        }
      ]
    },
    {
      "cell_type": "code",
      "source": [
        "# List Comprehension\n",
        "desvios_ao_quadrado = [(custo - media(custos))**2 for custo in custos]                      \n",
        "std = (sum(desvio) / len(desvio))**(1/2)\n",
        "std\n"
      ],
      "metadata": {
        "id": "ylW_0uIFSlvb",
        "outputId": "38b17783-ff24-4a46-98d8-df2a0d2651a1",
        "colab": {
          "base_uri": "https://localhost:8080/"
        }
      },
      "execution_count": 36,
      "outputs": [
        {
          "output_type": "execute_result",
          "data": {
            "text/plain": [
              "10.274023338281626"
            ]
          },
          "metadata": {},
          "execution_count": 36
        }
      ]
    },
    {
      "cell_type": "code",
      "source": [
        "def std(valores):\n",
        "  desvios_ao_quadrado = [(valor - media(valores))**2 for valor in valores] \n",
        "  return (sum(desvios_ao_quadrado) / len(desvios_ao_quadrado))**(1/2)\n"
      ],
      "metadata": {
        "id": "5LNcOOvcT_Sd"
      },
      "execution_count": 42,
      "outputs": []
    },
    {
      "cell_type": "code",
      "source": [
        "def std_acima_de_30(valores):\n",
        "  desvios_ao_quadrado = [(valor - media(valores))**2 for valor in valores if valor >= 30] \n",
        "  return (sum(desvios_ao_quadrado) / len(desvios_ao_quadrado))**(1/2)"
      ],
      "metadata": {
        "id": "32cw92e8UzHk"
      },
      "execution_count": 39,
      "outputs": []
    },
    {
      "cell_type": "code",
      "source": [
        "vendas = [10,20,30,80,70]\n",
        "print(std_acima_de_30(vendas))\n",
        "print(std(vendas))"
      ],
      "metadata": {
        "id": "-rASbetWUfbr",
        "outputId": "d77fe39a-3c0c-403f-d08f-e64e09a8777a",
        "colab": {
          "base_uri": "https://localhost:8080/"
        }
      },
      "execution_count": 44,
      "outputs": [
        {
          "output_type": "stream",
          "name": "stdout",
          "text": [
            "28.118795611950855\n",
            "27.85677655436824\n"
          ]
        }
      ]
    },
    {
      "cell_type": "code",
      "source": [
        "import pandas as pd\n",
        "vendas = pd.DataFrame([100,300,500,80,700,100], columns = ['vendas'])\n",
        "custos = pd.DataFrame([100,200,300,300,500,100], columns = ['custos'])\n",
        "df = pd.concat([vendas,custos], axis =1)\n",
        "df['lucro'] = (df['vendas'] - df['custos'])*0.20\n",
        "filtro = df['lucro'] > 20\n",
        "df[filtro]\n",
        "\n"
      ],
      "metadata": {
        "id": "Tm6rrZ0rVXYa",
        "outputId": "2ca39ffa-87c3-4282-d565-ae275d211b3c",
        "colab": {
          "base_uri": "https://localhost:8080/",
          "height": 111
        }
      },
      "execution_count": 69,
      "outputs": [
        {
          "output_type": "execute_result",
          "data": {
            "text/plain": [
              "   vendas  custos  lucro\n",
              "2     500     300   40.0\n",
              "4     700     500   40.0"
            ],
            "text/html": [
              "\n",
              "  <div id=\"df-bcc0d06c-8699-43d7-93e0-7bab4168a0d9\">\n",
              "    <div class=\"colab-df-container\">\n",
              "      <div>\n",
              "<style scoped>\n",
              "    .dataframe tbody tr th:only-of-type {\n",
              "        vertical-align: middle;\n",
              "    }\n",
              "\n",
              "    .dataframe tbody tr th {\n",
              "        vertical-align: top;\n",
              "    }\n",
              "\n",
              "    .dataframe thead th {\n",
              "        text-align: right;\n",
              "    }\n",
              "</style>\n",
              "<table border=\"1\" class=\"dataframe\">\n",
              "  <thead>\n",
              "    <tr style=\"text-align: right;\">\n",
              "      <th></th>\n",
              "      <th>vendas</th>\n",
              "      <th>custos</th>\n",
              "      <th>lucro</th>\n",
              "    </tr>\n",
              "  </thead>\n",
              "  <tbody>\n",
              "    <tr>\n",
              "      <th>2</th>\n",
              "      <td>500</td>\n",
              "      <td>300</td>\n",
              "      <td>40.0</td>\n",
              "    </tr>\n",
              "    <tr>\n",
              "      <th>4</th>\n",
              "      <td>700</td>\n",
              "      <td>500</td>\n",
              "      <td>40.0</td>\n",
              "    </tr>\n",
              "  </tbody>\n",
              "</table>\n",
              "</div>\n",
              "      <button class=\"colab-df-convert\" onclick=\"convertToInteractive('df-bcc0d06c-8699-43d7-93e0-7bab4168a0d9')\"\n",
              "              title=\"Convert this dataframe to an interactive table.\"\n",
              "              style=\"display:none;\">\n",
              "        \n",
              "  <svg xmlns=\"http://www.w3.org/2000/svg\" height=\"24px\"viewBox=\"0 0 24 24\"\n",
              "       width=\"24px\">\n",
              "    <path d=\"M0 0h24v24H0V0z\" fill=\"none\"/>\n",
              "    <path d=\"M18.56 5.44l.94 2.06.94-2.06 2.06-.94-2.06-.94-.94-2.06-.94 2.06-2.06.94zm-11 1L8.5 8.5l.94-2.06 2.06-.94-2.06-.94L8.5 2.5l-.94 2.06-2.06.94zm10 10l.94 2.06.94-2.06 2.06-.94-2.06-.94-.94-2.06-.94 2.06-2.06.94z\"/><path d=\"M17.41 7.96l-1.37-1.37c-.4-.4-.92-.59-1.43-.59-.52 0-1.04.2-1.43.59L10.3 9.45l-7.72 7.72c-.78.78-.78 2.05 0 2.83L4 21.41c.39.39.9.59 1.41.59.51 0 1.02-.2 1.41-.59l7.78-7.78 2.81-2.81c.8-.78.8-2.07 0-2.86zM5.41 20L4 18.59l7.72-7.72 1.47 1.35L5.41 20z\"/>\n",
              "  </svg>\n",
              "      </button>\n",
              "      \n",
              "  <style>\n",
              "    .colab-df-container {\n",
              "      display:flex;\n",
              "      flex-wrap:wrap;\n",
              "      gap: 12px;\n",
              "    }\n",
              "\n",
              "    .colab-df-convert {\n",
              "      background-color: #E8F0FE;\n",
              "      border: none;\n",
              "      border-radius: 50%;\n",
              "      cursor: pointer;\n",
              "      display: none;\n",
              "      fill: #1967D2;\n",
              "      height: 32px;\n",
              "      padding: 0 0 0 0;\n",
              "      width: 32px;\n",
              "    }\n",
              "\n",
              "    .colab-df-convert:hover {\n",
              "      background-color: #E2EBFA;\n",
              "      box-shadow: 0px 1px 2px rgba(60, 64, 67, 0.3), 0px 1px 3px 1px rgba(60, 64, 67, 0.15);\n",
              "      fill: #174EA6;\n",
              "    }\n",
              "\n",
              "    [theme=dark] .colab-df-convert {\n",
              "      background-color: #3B4455;\n",
              "      fill: #D2E3FC;\n",
              "    }\n",
              "\n",
              "    [theme=dark] .colab-df-convert:hover {\n",
              "      background-color: #434B5C;\n",
              "      box-shadow: 0px 1px 3px 1px rgba(0, 0, 0, 0.15);\n",
              "      filter: drop-shadow(0px 1px 2px rgba(0, 0, 0, 0.3));\n",
              "      fill: #FFFFFF;\n",
              "    }\n",
              "  </style>\n",
              "\n",
              "      <script>\n",
              "        const buttonEl =\n",
              "          document.querySelector('#df-bcc0d06c-8699-43d7-93e0-7bab4168a0d9 button.colab-df-convert');\n",
              "        buttonEl.style.display =\n",
              "          google.colab.kernel.accessAllowed ? 'block' : 'none';\n",
              "\n",
              "        async function convertToInteractive(key) {\n",
              "          const element = document.querySelector('#df-bcc0d06c-8699-43d7-93e0-7bab4168a0d9');\n",
              "          const dataTable =\n",
              "            await google.colab.kernel.invokeFunction('convertToInteractive',\n",
              "                                                     [key], {});\n",
              "          if (!dataTable) return;\n",
              "\n",
              "          const docLinkHtml = 'Like what you see? Visit the ' +\n",
              "            '<a target=\"_blank\" href=https://colab.research.google.com/notebooks/data_table.ipynb>data table notebook</a>'\n",
              "            + ' to learn more about interactive tables.';\n",
              "          element.innerHTML = '';\n",
              "          dataTable['output_type'] = 'display_data';\n",
              "          await google.colab.output.renderOutput(dataTable, element);\n",
              "          const docLink = document.createElement('div');\n",
              "          docLink.innerHTML = docLinkHtml;\n",
              "          element.appendChild(docLink);\n",
              "        }\n",
              "      </script>\n",
              "    </div>\n",
              "  </div>\n",
              "  "
            ]
          },
          "metadata": {},
          "execution_count": 69
        }
      ]
    },
    {
      "cell_type": "code",
      "source": [
        ""
      ],
      "metadata": {
        "id": "JFDSQivgXQTk"
      },
      "execution_count": null,
      "outputs": []
    }
  ],
  "metadata": {
    "kernelspec": {
      "display_name": "Python 3",
      "language": "python",
      "name": "python3"
    },
    "language_info": {
      "codemirror_mode": {
        "name": "ipython",
        "version": 3
      },
      "file_extension": ".py",
      "mimetype": "text/x-python",
      "name": "python",
      "nbconvert_exporter": "python",
      "pygments_lexer": "ipython3",
      "version": "3.8.3"
    },
    "colab": {
      "name": "Gabarito - Lista de Exercícios if and else.ipynb",
      "provenance": [],
      "include_colab_link": true
    }
  },
  "nbformat": 4,
  "nbformat_minor": 0
}