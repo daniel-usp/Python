{
  "cells": [
    {
      "cell_type": "markdown",
      "metadata": {
        "id": "view-in-github",
        "colab_type": "text"
      },
      "source": [
        "<a href=\"https://colab.research.google.com/github/daniel-usp/Python/blob/main/Gabarito_Lista_de_Exerc%C3%ADcios_if_and_else.ipynb\" target=\"_parent\"><img src=\"https://colab.research.google.com/assets/colab-badge.svg\" alt=\"Open In Colab\"/></a>"
      ]
    },
    {
      "cell_type": "markdown",
      "metadata": {
        "id": "H9u0BUV33LDg"
      },
      "source": [
        "# Exercícios com if"
      ]
    },
    {
      "cell_type": "markdown",
      "metadata": {
        "id": "K72VYC1b3LDh"
      },
      "source": [
        "## 1. Cálculo de Bônus\n",
        "\n",
        "- Crie um programa que calcule e dê um print no bônus que os funcionários devem receber segundo a regra:\n",
        "\n",
        "A meta é 1000 vendas.<br> \n",
        "Se o valor de vendas for maior ou igual a meta, o valor do bônus do funcionário é 10% do valor de vendas.<br>\n",
        "Caso contrário o valor de bônus do funcionário é 0.<br>\n",
        "Print o bônus dos 3 funcionários"
      ]
    },
    {
      "cell_type": "code",
      "execution_count": null,
      "metadata": {
        "id": "rx6L6snG3LDh",
        "outputId": "70a3fac8-075c-4169-876b-e06619da7e6a"
      },
      "outputs": [
        {
          "name": "stdout",
          "output_type": "stream",
          "text": [
            "O funcionário 1 ganhou 100.0 de bônus\n",
            "O funcionário 2 ganhou 0 de bônus\n",
            "O funcionário 3 ganhou 270.0 de bônus\n"
          ]
        }
      ],
      "source": [
        "vendas_funcionario1 = 1000\n",
        "vendas_funcionario2 = 770\n",
        "vendas_funcionario3 = 2700\n",
        "\n",
        "#crie seu código aqui\n",
        "if vendas_funcionario1 >= 1000:\n",
        "    print('O funcionário 1 ganhou {} de bônus'.format(vendas_funcionario1 * 0.1))\n",
        "\n",
        "if vendas_funcionario2 >= 1000:\n",
        "    bonus = vendas_funcionario2 * 0.1\n",
        "else:\n",
        "    bonus = 0\n",
        "print('O funcionário 2 ganhou {} de bônus'.format(bonus))\n",
        "\n",
        "if vendas_funcionario3 >= 1000:\n",
        "    bonus = vendas_funcionario3 * 0.1\n",
        "else:\n",
        "    bonus = 0\n",
        "print('O funcionário 3 ganhou {} de bônus'.format(bonus))"
      ]
    },
    {
      "cell_type": "raw",
      "metadata": {
        "id": "bZUGBTHI3LDi"
      },
      "source": [
        "Resposta:\n",
        "O funcionário 1 ganhou 100 de bônus\n",
        "O funcionário 2 ganhou 0 de bônus\n",
        "O funcionário 3 ganhou 270 de bônus"
      ]
    },
    {
      "cell_type": "markdown",
      "metadata": {
        "id": "Y0IAvf7w3LDi"
      },
      "source": [
        "## 2. Cálculo de bônus com uma nova regra\n",
        "\n",
        "- Agora, crie um novo código que calcule e dê um print no bônus dos funcionários novamente. Porém há uma nova regra nesse 2º caso:\n",
        "\n",
        "A meta é 1000 vendas<br>\n",
        "Agora, os funcionários que venderem muito acima da meta ganham mais bônus do que os outros. Então o bônus é definido da seguinte forma:<br>\n",
        "\n",
        "- Se vendas funcionário for maior ou igual a 2000, então o bônus é de 15% sobre o valor de vendas\n",
        "- Se vendas funcionário for menor do que 2000 e maior ou igual a 1000, então o bônus é de 10% sobre o valor de vendas\n",
        "- Se vendas funcionário for menos do que 1000 então o bônus do funcionário é de 0.\n",
        "\n",
        "Use as mesmas variáveis de vendas_funcionários"
      ]
    },
    {
      "cell_type": "code",
      "execution_count": null,
      "metadata": {
        "id": "S52GF5L83LDj",
        "outputId": "573102f8-3e2f-4217-f35d-5139b02463a9"
      },
      "outputs": [
        {
          "name": "stdout",
          "output_type": "stream",
          "text": [
            "O funcionário 1 ganhou 100.0 de bônus\n",
            "O funcionário 2 ganhou 0 de bônus\n",
            "O funcionário 3 ganhou 405.0 de bônus\n"
          ]
        }
      ],
      "source": [
        "#crie seu código aqui\n",
        "#obs: há 2 formas de fazer, com if dentro de if ou então com if e elif. Escolha a que você preferir\n",
        "\n",
        "if vendas_funcionario1 >= 1000:\n",
        "    if vendas_funcionario1 >= 2000:\n",
        "        bonus = 0.15 * vendas_funcionario1\n",
        "    else:\n",
        "        bonus = 0.1 * vendas_funcionario1\n",
        "else:\n",
        "    bonus = 0\n",
        "print('O funcionário 1 ganhou {} de bônus'.format(bonus))\n",
        "\n",
        "#2ª maneira -> if e elif\n",
        "\n",
        "if vendas_funcionario2 >= 2000:\n",
        "    bonus = 0.15 * vendas_funcionario2\n",
        "elif vendas_funcionario2 >= 1000:\n",
        "    bonus = 0.1 * vendas_funcionario2\n",
        "else:\n",
        "    bonus = 0\n",
        "print('O funcionário 2 ganhou {} de bônus'.format(bonus))\n",
        "\n",
        "######\n",
        "if vendas_funcionario3 >= 1000:\n",
        "    if vendas_funcionario3 >= 2000:\n",
        "        bonus = 0.15 * vendas_funcionario3\n",
        "    else:\n",
        "        bonus = 0.1 * vendas_funcionario3\n",
        "else:\n",
        "    bonus = 0\n",
        "print('O funcionário 3 ganhou {} de bônus'.format(bonus))"
      ]
    },
    {
      "cell_type": "raw",
      "metadata": {
        "id": "eS027XzM3LDj"
      },
      "source": [
        "Resposta:\n",
        "O funcionário 1 ganhou 100 de bônus\n",
        "O funcionário 2 ganhou 0 de bônus\n",
        "O funcionário 3 ganhou 405 de bônus"
      ]
    }
  ],
  "metadata": {
    "kernelspec": {
      "display_name": "Python 3",
      "language": "python",
      "name": "python3"
    },
    "language_info": {
      "codemirror_mode": {
        "name": "ipython",
        "version": 3
      },
      "file_extension": ".py",
      "mimetype": "text/x-python",
      "name": "python",
      "nbconvert_exporter": "python",
      "pygments_lexer": "ipython3",
      "version": "3.8.3"
    },
    "colab": {
      "name": "Gabarito - Lista de Exercícios if and else.ipynb",
      "provenance": [],
      "include_colab_link": true
    }
  },
  "nbformat": 4,
  "nbformat_minor": 0
}