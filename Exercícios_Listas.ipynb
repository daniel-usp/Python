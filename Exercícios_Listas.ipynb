{
  "cells": [
    {
      "cell_type": "markdown",
      "metadata": {
        "id": "view-in-github",
        "colab_type": "text"
      },
      "source": [
        "<a href=\"https://colab.research.google.com/github/daniel-usp/Python/blob/main/Exerc%C3%ADcios_Listas.ipynb\" target=\"_parent\"><img src=\"https://colab.research.google.com/assets/colab-badge.svg\" alt=\"Open In Colab\"/></a>"
      ]
    },
    {
      "cell_type": "markdown",
      "metadata": {
        "id": "KfYWJ9SEK1ZW"
      },
      "source": [
        "# Exercícios\n",
        "\n",
        "## 1. Faturamento do Melhor e do Pior Mês do Ano\n",
        "\n",
        "Qual foi o valor de vendas do melhor mês do Ano?\n",
        "E valor do pior mês do ano?"
      ]
    },
    {
      "cell_type": "code",
      "execution_count": null,
      "metadata": {
        "id": "x5SGTj5XK1ZY"
      },
      "outputs": [],
      "source": [
        "meses = ['jan', 'fev', 'mar', 'abr', 'mai', 'jun', 'jul', 'ago', 'set', 'out', 'nov', 'dez']\n",
        "vendas_1sem = [25000, 29000, 22200, 17750, 15870, 19900]\n",
        "vendas_2sem = [19850, 20120, 17540, 15555, 49051, 9650]"
      ]
    },
    {
      "cell_type": "markdown",
      "metadata": {
        "id": "BnNZE9eVK1ZY"
      },
      "source": [
        "## 2. Continuação\n",
        "\n",
        "Agora relacione as duas listas para printar 'O melhor mês do ano foi {} com {} vendas' e o mesmo para o pior mês do ano.\n",
        "\n",
        "Calcule também o faturamento total do Ano e quanto que o melhor mês representou do faturamento total.\n",
        "\n",
        "Obs: Para o faturamento total, pode usar a função sum(lista) que soma todos os itens de uma lista"
      ]
    },
    {
      "cell_type": "code",
      "execution_count": null,
      "metadata": {
        "id": "LvLuyRcFK1ZZ"
      },
      "outputs": [],
      "source": [
        ""
      ]
    },
    {
      "cell_type": "markdown",
      "metadata": {
        "id": "X3yGcz2KK1ZZ"
      },
      "source": [
        "## 3. Crie uma lista com o top 3 valores de vendas do ano (sem fazer \"no olho\")\n",
        "\n",
        "Dica: o método remove retira um item da lista."
      ]
    },
    {
      "cell_type": "code",
      "execution_count": null,
      "metadata": {
        "id": "nKpiTTehK1ZZ"
      },
      "outputs": [],
      "source": [
        "top3 = []"
      ]
    }
  ],
  "metadata": {
    "kernelspec": {
      "display_name": "Python 3",
      "language": "python",
      "name": "python3"
    },
    "language_info": {
      "codemirror_mode": {
        "name": "ipython",
        "version": 3
      },
      "file_extension": ".py",
      "mimetype": "text/x-python",
      "name": "python",
      "nbconvert_exporter": "python",
      "pygments_lexer": "ipython3",
      "version": "3.8.3"
    },
    "colab": {
      "name": "Exercícios Listas.ipynb",
      "provenance": [],
      "include_colab_link": true
    }
  },
  "nbformat": 4,
  "nbformat_minor": 0
}