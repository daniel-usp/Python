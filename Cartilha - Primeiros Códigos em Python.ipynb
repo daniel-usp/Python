{
  "cells": [
    {
      "cell_type": "markdown",
      "metadata": {
        "id": "0Fonpf5_ieXG"
      },
      "source": [
        "# Cartilha para Consulta - 1ºs Códigos em Python\n",
        "\n",
        "Essa cartilha é para revisão e consulta dos primeiros códigos que aprenderemos. Na prática você vai acabar naturalmente decorando esses códigos a medida que formos usando mais no curso, mas essa cartilha pode te ajudar sempre que precisar.\n"
      ]
    },
    {
      "cell_type": "markdown",
      "metadata": {
        "id": "BkE0HO-zieXI"
      },
      "source": [
        "### print(texto) -> Para \"imprimir\" (exibir) um texto ou uma variável"
      ]
    },
    {
      "cell_type": "code",
      "execution_count": 7,
      "metadata": {
        "id": "5tG3hAalieXI",
        "outputId": "02111af0-d711-4dbd-8515-79d2c9af38c2",
        "colab": {
          "base_uri": "https://localhost:8080/"
        }
      },
      "outputs": [
        {
          "output_type": "stream",
          "name": "stdout",
          "text": [
            "O faturamento da loja foi de R$1.000\n",
            "O curso começará agora!\n",
            "Eu me chamo: Daniel\n"
          ]
        }
      ],
      "source": [
        "print('O faturamento da loja foi de R$1.000')\n",
        "print('O curso começará agora!')\n",
        "print('Eu me chamo','Daniel', sep = ': ')"
      ]
    },
    {
      "cell_type": "markdown",
      "metadata": {
        "id": "_qWxr8MtieXJ"
      },
      "source": [
        "### Textos (strings) são sempre entre aspas"
      ]
    },
    {
      "cell_type": "raw",
      "metadata": {
        "id": "hJOqQ_NgieXJ"
      },
      "source": [
        "'daniel@gmail.com' -> é uma string\n",
        "daniel@gmail.com -> vai dar erro porque o Python acha que isso é uma variável (vamos ver como funcionam mais a frente)"
      ]
    },
    {
      "cell_type": "code",
      "source": [
        "faturamento = 10.5 \n",
        "nome_da_empresa = 'DRB'\n",
        "tipo = True"
      ],
      "metadata": {
        "id": "P8EwTUCmJcCy",
        "outputId": "b0ad7703-c04f-42b6-d16c-e0f49e999fbc",
        "colab": {
          "base_uri": "https://localhost:8080/"
        }
      },
      "execution_count": 16,
      "outputs": [
        {
          "output_type": "execute_result",
          "data": {
            "text/plain": [
              "bool"
            ]
          },
          "metadata": {},
          "execution_count": 16
        }
      ]
    },
    {
      "cell_type": "markdown",
      "metadata": {
        "id": "LHWRZqjLieXK"
      },
      "source": [
        "### Operações Mateméticas no Python:\n",
        "\n",
        "1. Adição -> +\n",
        "2. Subtração -> -\n",
        "3. Divisão -> /\n",
        "4. Multiplicação -> *\n",
        "5. Mod (resto da divisão) -> %\n",
        "6. Potência -> **\n",
        "\n"
      ]
    },
    {
      "cell_type": "code",
      "execution_count": 17,
      "metadata": {
        "id": "y6Ft_GrSieXK",
        "outputId": "64fc39f3-c407-4f50-9438-5be2edc99714",
        "colab": {
          "base_uri": "https://localhost:8080/"
        }
      },
      "outputs": [
        {
          "output_type": "stream",
          "name": "stdout",
          "text": [
            "8\n",
            "2\n",
            "1.6666666666666667\n",
            "15\n",
            "2\n"
          ]
        }
      ],
      "source": [
        "#adição\n",
        "print(3 + 5)\n",
        "\n",
        "#subtração\n",
        "print(5 - 3)\n",
        "\n",
        "#divisão\n",
        "print(5 / 3)\n",
        "\n",
        "#multiplicação\n",
        "print(5 * 3)\n",
        "\n",
        "#mod (resto da divisão de 5 por 3)\n",
        "print(5 % 3)"
      ]
    },
    {
      "cell_type": "markdown",
      "metadata": {
        "id": "1UxM5YZIieXL"
      },
      "source": [
        "### Operações Básicas com String\n",
        "\n",
        "1. Concatenar -> +\n",
        "2. Verificar se um texto está contido dentro do outro -> in"
      ]
    },
    {
      "cell_type": "code",
      "execution_count": 25,
      "metadata": {
        "id": "3rnFAlEFieXL",
        "outputId": "0ac00a8f-f6c0-4b6f-bbb6-94df0701f46b",
        "colab": {
          "base_uri": "https://localhost:8080/"
        }
      },
      "outputs": [
        {
          "output_type": "stream",
          "name": "stdout",
          "text": [
            "O faturamento da loja foi 1000\n",
            "True\n"
          ]
        }
      ],
      "source": [
        "#Concatenar (só realiza entre strings)\n",
        "print('O faturamento da loja foi ' + '1000')\n",
        "\n",
        "#Verificar se um texto está dentro do outro\n",
        "print('@' in 'daniel@gmail.com')"
      ]
    },
    {
      "cell_type": "code",
      "source": [
        "'O faturamento da loja foi ' + str(10000)"
      ],
      "metadata": {
        "id": "c7toQVtWLCre",
        "outputId": "d6643d82-875d-4c20-9357-b6d5677b62f1",
        "colab": {
          "base_uri": "https://localhost:8080/",
          "height": 36
        }
      },
      "execution_count": 24,
      "outputs": [
        {
          "output_type": "execute_result",
          "data": {
            "text/plain": [
              "'O faturamento da loja foi 10000'"
            ],
            "application/vnd.google.colaboratory.intrinsic+json": {
              "type": "string"
            }
          },
          "metadata": {},
          "execution_count": 24
        }
      ]
    },
    {
      "cell_type": "markdown",
      "metadata": {
        "id": "TNX4Hm40ieXL"
      },
      "source": [
        "### Variável\n",
        "\n",
        "variavel = valor"
      ]
    },
    {
      "cell_type": "code",
      "execution_count": 27,
      "metadata": {
        "id": "q8hTzWlDieXL",
        "outputId": "ed1f34ba-5068-488a-f417-e183fffde3e3",
        "colab": {
          "base_uri": "https://localhost:8080/"
        }
      },
      "outputs": [
        {
          "output_type": "stream",
          "name": "stdout",
          "text": [
            "1500\n",
            "7000\n"
          ]
        }
      ],
      "source": [
        "faturamento = 1500 \n",
        "custo = 800\n",
        "lucro = faturamento - custo \n",
        "print(faturamento)\n",
        "print(lucro)"
      ]
    },
    {
      "cell_type": "markdown",
      "metadata": {
        "id": "nyk-nA_CieXM"
      },
      "source": [
        "### Pegar informações do Usuário\n",
        "\n",
        "variavel = input('Texto para o Usuário')"
      ]
    },
    {
      "cell_type": "code",
      "execution_count": 37,
      "metadata": {
        "id": "_kr1_2IGieXM",
        "outputId": "051f97ff-bcfd-48c2-f62b-bc0959df550a",
        "colab": {
          "base_uri": "https://localhost:8080/"
        }
      },
      "outputs": [
        {
          "output_type": "stream",
          "name": "stdout",
          "text": [
            "Digite seu cpf (apenas números, sem pontos e traços)31222902869\n",
            "O cpf do cliente é 312.229.028-69\n"
          ]
        }
      ],
      "source": [
        "#para cadastrar um cliente\n",
        "cpf = input('Digite seu cpf (apenas números, sem pontos e traços)')\n",
        "print('O cpf do cliente é ' + str(cpf[0:3]) + '.' + str(cpf[3:6]) + '.' + str(cpf[6:9]) + '-'\n",
        "                              + str(cpf[9:11]))\n"
      ]
    },
    {
      "cell_type": "code",
      "source": [
        "cpf[0:3] #Pega o string de índice 0 até o de índice 2\n",
        "#str[i:j] Pege o string de índice i até j-1 "
      ],
      "metadata": {
        "id": "a8OaxCdQMwpe",
        "outputId": "43df7182-78b6-423c-e19e-ec6449b1ba0d",
        "colab": {
          "base_uri": "https://localhost:8080/",
          "height": 36
        }
      },
      "execution_count": 32,
      "outputs": [
        {
          "output_type": "execute_result",
          "data": {
            "text/plain": [
              "'312'"
            ],
            "application/vnd.google.colaboratory.intrinsic+json": {
              "type": "string"
            }
          },
          "metadata": {},
          "execution_count": 32
        }
      ]
    },
    {
      "cell_type": "code",
      "source": [
        ""
      ],
      "metadata": {
        "id": "pEi4H-8-MxfG"
      },
      "execution_count": null,
      "outputs": []
    }
  ],
  "metadata": {
    "kernelspec": {
      "display_name": "Python 3",
      "language": "python",
      "name": "python3"
    },
    "language_info": {
      "codemirror_mode": {
        "name": "ipython",
        "version": 3
      },
      "file_extension": ".py",
      "mimetype": "text/x-python",
      "name": "python",
      "nbconvert_exporter": "python",
      "pygments_lexer": "ipython3",
      "version": "3.8.3"
    },
    "colab": {
      "name": "Cartilha - Primeiros Códigos em Python.ipynb",
      "provenance": []
    }
  },
  "nbformat": 4,
  "nbformat_minor": 0
}