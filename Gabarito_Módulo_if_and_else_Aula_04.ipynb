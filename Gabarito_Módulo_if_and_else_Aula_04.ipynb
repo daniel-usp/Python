{
  "cells": [
    {
      "cell_type": "markdown",
      "metadata": {
        "id": "view-in-github",
        "colab_type": "text"
      },
      "source": [
        "<a href=\"https://colab.research.google.com/github/daniel-usp/Python/blob/main/Gabarito_M%C3%B3dulo_if_and_else_Aula_04.ipynb\" target=\"_parent\"><img src=\"https://colab.research.google.com/assets/colab-badge.svg\" alt=\"Open In Colab\"/></a>"
      ]
    },
    {
      "cell_type": "markdown",
      "metadata": {
        "id": "_a_9bAuK1wCh"
      },
      "source": [
        "# Comparadores"
      ]
    },
    {
      "cell_type": "raw",
      "metadata": {
        "id": "00KIJqnz1wCi"
      },
      "source": [
        "==    igual\n",
        "!=    diferente\n",
        ">     maior que (>= maior ou igual)\n",
        "<     menor que (<= menor ou igual)\n",
        "in    texto existe dentro de outro texto \n",
        "not   verifica o contrário da comparação\n",
        "\n",
        "Obs: Se em alguma condição você não quiser fazer nada, você pode simplesmente escrever:\n",
        "pass"
      ]
    },
    {
      "cell_type": "code",
      "execution_count": null,
      "metadata": {
        "id": "-nE79Eaa1wCi",
        "outputId": "e6b08e6c-2d0c-4c1a-e910-ea0567be4693"
      },
      "outputs": [
        {
          "name": "stdout",
          "output_type": "stream",
          "text": [
            "Programa 1\n",
            "Os faturamentos são diferentes\n"
          ]
        }
      ],
      "source": [
        "faturamento_loja_1 = 2500\n",
        "faturamento_loja_2 = 2200\n",
        "email = \"liragmail.com\"\n",
        "\n",
        "print('Programa 1')\n",
        "if faturamento_loja_1 == faturamento_loja_2:\n",
        "    print('Os faturamentos são iguais')\n",
        "else:\n",
        "    print('Os faturamentos são diferentes')\n"
      ]
    },
    {
      "cell_type": "code",
      "execution_count": null,
      "metadata": {
        "id": "DDE3QyHS1wCj",
        "outputId": "5cc3f972-1f67-42d0-d9c9-ec8eb968e8cf"
      },
      "outputs": [
        {
          "name": "stdout",
          "output_type": "stream",
          "text": [
            "Programa 2\n",
            "Esse não é o email do Lira\n"
          ]
        }
      ],
      "source": [
        "print('Programa 2')\n",
        "if email != 'lira@gmail.com':\n",
        "    print('Esse não é o email do Lira')\n",
        "else:\n",
        "    print('Email errado')"
      ]
    },
    {
      "cell_type": "code",
      "execution_count": null,
      "metadata": {
        "id": "uz6TaRIb1wCk",
        "outputId": "4eff4bbc-496b-4f8c-c81b-52c353e1f13b"
      },
      "outputs": [
        {
          "name": "stdout",
          "output_type": "stream",
          "text": [
            "Programa 3\n",
            "Insira seu e-mail:lira@gmail.com\n"
          ]
        }
      ],
      "source": [
        "print('Programa 3')\n",
        "email_usuario = input('Insira seu e-mail:')\n",
        "if not '@' in email_usuario:\n",
        "    print('Email Inválido')\n",
        "else:\n",
        "    pass"
      ]
    }
  ],
  "metadata": {
    "kernelspec": {
      "display_name": "Python 3",
      "language": "python",
      "name": "python3"
    },
    "language_info": {
      "codemirror_mode": {
        "name": "ipython",
        "version": 3
      },
      "file_extension": ".py",
      "mimetype": "text/x-python",
      "name": "python",
      "nbconvert_exporter": "python",
      "pygments_lexer": "ipython3",
      "version": "3.8.3"
    },
    "colab": {
      "name": "Gabarito - Módulo if and else - Aula 04.ipynb",
      "provenance": [],
      "include_colab_link": true
    }
  },
  "nbformat": 4,
  "nbformat_minor": 0
}