{
  "cells": [
    {
      "cell_type": "markdown",
      "metadata": {
        "id": "view-in-github",
        "colab_type": "text"
      },
      "source": [
        "<a href=\"https://colab.research.google.com/github/daniel-usp/Python/blob/main/String_Indices.ipynb\" target=\"_parent\"><img src=\"https://colab.research.google.com/assets/colab-badge.svg\" alt=\"Open In Colab\"/></a>"
      ]
    },
    {
      "cell_type": "raw",
      "metadata": {
        "id": "fn1gnN1Z4qnZ"
      },
      "source": [
        "Texto: lira@gmail.com\n",
        "\n",
        "-14 -13 -12 -11 -10 -9 -8 -7 -6 -5 -4 -3 -2 -1\n",
        "  l   i   r   a   @  g  m  a  i  l  .  c  o  m\n",
        "  0   1   2   3   4  5  6  7  8  9 10 11 12 13\n",
        "  \n",
        "Para pegar um texto de trás para frente: texto[índice] -> onde índice é negativo\n",
        "Para pegar o pedaço de um texto use : (dois pontos). texto[:indice] ou texto[indice:] ou ainda texto[indice:indice]"
      ]
    },
    {
      "cell_type": "code",
      "execution_count": null,
      "metadata": {
        "id": "Kt_sWru04qna"
      },
      "outputs": [],
      "source": [
        "email = 'lira@gmail.com'\n",
        "nome = 'João Paulo Lira'"
      ]
    },
    {
      "cell_type": "markdown",
      "metadata": {
        "id": "QPe6aXS24qna"
      },
      "source": [
        "Exercícios para Fixação:\n",
        "Basta completar os prints de forma correta"
      ]
    },
    {
      "cell_type": "code",
      "execution_count": null,
      "metadata": {
        "id": "k4Gkpfve4qnb"
      },
      "outputs": [],
      "source": [
        "print('Tamanho do e-mail ' + str(len(email)) + ' caracteres')\n",
        "print('Primeiro Caractere ' + '?')\n",
        "print('Último Caractere ' + '?')\n",
        "print('Servidor do email ' + '?')"
      ]
    }
  ],
  "metadata": {
    "kernelspec": {
      "display_name": "Python 3",
      "language": "python",
      "name": "python3"
    },
    "language_info": {
      "codemirror_mode": {
        "name": "ipython",
        "version": 3
      },
      "file_extension": ".py",
      "mimetype": "text/x-python",
      "name": "python",
      "nbconvert_exporter": "python",
      "pygments_lexer": "ipython3",
      "version": "3.8.3"
    },
    "colab": {
      "name": "String Indices.ipynb",
      "provenance": [],
      "include_colab_link": true
    }
  },
  "nbformat": 4,
  "nbformat_minor": 0
}