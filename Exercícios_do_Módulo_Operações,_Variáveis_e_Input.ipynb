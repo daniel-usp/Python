{
  "cells": [
    {
      "cell_type": "markdown",
      "metadata": {
        "id": "view-in-github",
        "colab_type": "text"
      },
      "source": [
        "<a href=\"https://colab.research.google.com/github/daniel-usp/Python/blob/main/Exerc%C3%ADcios_do_M%C3%B3dulo_Opera%C3%A7%C3%B5es%2C_Vari%C3%A1veis_e_Input.ipynb\" target=\"_parent\"><img src=\"https://colab.research.google.com/assets/colab-badge.svg\" alt=\"Open In Colab\"/></a>"
      ]
    },
    {
      "cell_type": "markdown",
      "metadata": {
        "id": "UAWppPjQtf0d"
      },
      "source": [
        "# Exercícios do Módulo - Operações, Variáveis e Input"
      ]
    },
    {
      "cell_type": "markdown",
      "metadata": {
        "id": "4kzcBaUftf0f"
      },
      "source": [
        "### Parte 1 - Operações e Variáveis\n",
        "Crie um programa que imprima (print) os principais indicadores da loja Hashtag&Drink no último ano.\n",
        "Obs: faça tudo usando variáveis.\n",
        "\n",
        "Valores do último ano:\n",
        "\n",
        "Quantidade de Vendas de Coca = 150<br>\n",
        "Quantidade de Vendas de Pepsi = 130<br>\n",
        "Preço Unitário da Coca = 1,50 <br>\n",
        "Preço Unitário da Pepsi = 1,50<br>\n",
        "Custo da Loja: 2.500,00\n",
        "\n",
        "Use o bloco abaixo para criar todas as variáveis que precisar."
      ]
    },
    {
      "cell_type": "code",
      "execution_count": 1,
      "metadata": {
        "id": "6YxbcaQatf0g"
      },
      "outputs": [],
      "source": [
        "qtde_coca = 150\n",
        "qtde_pepsi = 130\n",
        "preco_coca = 1.50\n",
        "preco_pepsi = 1.50\n",
        "custo = 2500"
      ]
    },
    {
      "cell_type": "markdown",
      "metadata": {
        "id": "FSNlUxkLtf0h"
      },
      "source": [
        "1. Qual foi o faturamento de Pepsi da Loja?"
      ]
    },
    {
      "cell_type": "code",
      "execution_count": 2,
      "metadata": {
        "id": "UKQ2OKbytf0h",
        "outputId": "17c326ed-42db-4750-95db-b64865d8989e",
        "colab": {
          "base_uri": "https://localhost:8080/"
        }
      },
      "outputs": [
        {
          "output_type": "stream",
          "name": "stdout",
          "text": [
            "195.0\n"
          ]
        }
      ],
      "source": [
        "print(qtde_pepsi * preco_pepsi)"
      ]
    },
    {
      "cell_type": "markdown",
      "metadata": {
        "id": "yNybmA5ztf0i"
      },
      "source": [
        "2. Qual foi o **faturamento** de Coca da Loja?"
      ]
    },
    {
      "cell_type": "code",
      "execution_count": 3,
      "metadata": {
        "id": "mUYGXA0Dtf0i",
        "outputId": "4addb13b-a644-4b09-c914-ab93ec20727b",
        "colab": {
          "base_uri": "https://localhost:8080/"
        }
      },
      "outputs": [
        {
          "output_type": "stream",
          "name": "stdout",
          "text": [
            "225.0\n"
          ]
        }
      ],
      "source": [
        "print(qtde_coca * preco_coca)"
      ]
    },
    {
      "cell_type": "markdown",
      "metadata": {
        "id": "iNp0rFqhtf0j"
      },
      "source": [
        "3. Qual foi o Lucro da loja?"
      ]
    },
    {
      "cell_type": "code",
      "execution_count": 6,
      "metadata": {
        "id": "WZc0NUH4tf0k",
        "outputId": "e8726235-eadf-4b74-b740-7e1aa5e99462",
        "colab": {
          "base_uri": "https://localhost:8080/"
        }
      },
      "outputs": [
        {
          "output_type": "stream",
          "name": "stdout",
          "text": [
            "-2080.0\n"
          ]
        }
      ],
      "source": [
        "faturamento = (qtde_pepsi * preco_pepsi) + (qtde_coca * preco_coca)\n",
        "lucro = faturamento - custo\n",
        "print(lucro)"
      ]
    },
    {
      "cell_type": "markdown",
      "metadata": {
        "id": "KyAwU_Vbtf0k"
      },
      "source": [
        "4. Qual foi a Margem da Loja? (Lembre-se, margem = Lucro / Faturamento). Não precisa formatar em percentual"
      ]
    },
    {
      "cell_type": "code",
      "execution_count": 9,
      "metadata": {
        "id": "mFuBmf88tf0l",
        "outputId": "ab3e5338-6600-4fb2-d992-4e8d8b3e5a8b",
        "colab": {
          "base_uri": "https://localhost:8080/"
        }
      },
      "outputs": [
        {
          "output_type": "execute_result",
          "data": {
            "text/plain": [
              "-4.9523809523809526"
            ]
          },
          "metadata": {},
          "execution_count": 9
        }
      ],
      "source": [
        "margem = lucro / faturamento\n",
        "margem"
      ]
    },
    {
      "cell_type": "markdown",
      "metadata": {
        "id": "0ekm8RG5tf0l"
      },
      "source": [
        "### Parte 2 - Inputs e Strings"
      ]
    },
    {
      "cell_type": "markdown",
      "metadata": {
        "id": "_vRqEuFotf0l"
      },
      "source": [
        "A maioria das empresas trabalham com um Código para cada produto que possuem. A Hashtag&Drink, por exemplo, tem mais de 1.000 produtos e possui um código para cada produto.\n",
        "Ex: \n",
        "Coca -> Código: BEB1300543<br>\n",
        "Pepsi -> Código: BEB1300545<br>\n",
        "Vinho Primitivo Lucarelli -> Código: BAC1546001<br>\n",
        "Vodka Smirnoff -> Código: BAC17675002<br>\n",
        "\n",
        "Repare que todas as bebidas não alcóolicas tem o início do Código \"BEB\" e todas as bebidas alcóolicas tem o início do código \"BAC\".\n",
        "\n",
        "Crie um programa de consulta de bebida que, dado um código qualquer, identifique se a bebida é alcóolica. O programa deve responder True para bebidas alcóolicas e False para bebidas não alcóolicas. Para inserir um código, use um input.\n",
        "\n",
        "Dica: Lembre-se do comando in para strings e sempre insira os códigos com letra maiúscula para facilitar."
      ]
    },
    {
      "cell_type": "code",
      "execution_count": 12,
      "metadata": {
        "id": "Ntp3gWGttf0m",
        "outputId": "00f403db-7816-44e1-9006-ad82e1bff697",
        "colab": {
          "base_uri": "https://localhost:8080/"
        }
      },
      "outputs": [
        {
          "output_type": "stream",
          "name": "stdout",
          "text": [
            "Qual é o código da bebida?: bec3421\n",
            "bebida normal\n"
          ]
        }
      ],
      "source": [
        "codigo = input(\"Qual é o código da bebida?: \").upper()\n",
        "if 'BAC' in codigo:\n",
        "  print('É ALCÓOLICO')\n",
        "else:\n",
        "  print('bebida normal')"
      ]
    }
  ],
  "metadata": {
    "kernelspec": {
      "display_name": "Python 3",
      "language": "python",
      "name": "python3"
    },
    "language_info": {
      "codemirror_mode": {
        "name": "ipython",
        "version": 3
      },
      "file_extension": ".py",
      "mimetype": "text/x-python",
      "name": "python",
      "nbconvert_exporter": "python",
      "pygments_lexer": "ipython3",
      "version": "3.8.3"
    },
    "colab": {
      "name": "Exercícios do Módulo - Operações, Variáveis e Input.ipynb",
      "provenance": [],
      "include_colab_link": true
    }
  },
  "nbformat": 4,
  "nbformat_minor": 0
}