{
  "cells": [
    {
      "cell_type": "markdown",
      "metadata": {
        "id": "view-in-github",
        "colab_type": "text"
      },
      "source": [
        "<a href=\"https://colab.research.google.com/github/daniel-usp/Python/blob/main/Tipos_de_Vari%C3%A1veis.ipynb\" target=\"_parent\"><img src=\"https://colab.research.google.com/assets/colab-badge.svg\" alt=\"Open In Colab\"/></a>"
      ]
    },
    {
      "cell_type": "markdown",
      "metadata": {
        "id": "adDQwNXEu4Ta"
      },
      "source": [
        "# Tipos de Variáveis em Python"
      ]
    },
    {
      "cell_type": "markdown",
      "metadata": {
        "id": "RTgZa7Q4u4Tb"
      },
      "source": [
        "Uma variável é um objeto, afinal tudo é um objeto em Python\n",
        "\n",
        "int -> inteiro<br>\n",
        "string -> texto<br>\n",
        "float -> números com casas decimais (ponto flutuante)<br>\n",
        "bool ou boolean -> True ou False<br>\n",
        "\n",
        "Obs: Variáveis em Python não são declaradas explicitamente, mas isso não significa que você deve ficar mudando o tempo todo\n",
        "\n",
        "Obs2: Cuidado com os nomes restritos (arquivo para Download)"
      ]
    },
    {
      "cell_type": "code",
      "execution_count": null,
      "metadata": {
        "id": "28vI0Vitu4Tc",
        "outputId": "bdda5373-98b4-4eba-b483-f61a69331895"
      },
      "outputs": [
        {
          "data": {
            "text/plain": [
              "int"
            ]
          },
          "execution_count": 1,
          "metadata": {},
          "output_type": "execute_result"
        }
      ],
      "source": [
        "faturamento = 1000\n",
        "type(faturamento)"
      ]
    },
    {
      "cell_type": "code",
      "execution_count": null,
      "metadata": {
        "id": "hXTgM40qu4Te",
        "outputId": "c502bd0d-f533-4adb-97fd-61949bc650b6"
      },
      "outputs": [
        {
          "data": {
            "text/plain": [
              "float"
            ]
          },
          "execution_count": 2,
          "metadata": {},
          "output_type": "execute_result"
        }
      ],
      "source": [
        "faturamento = 1000.00\n",
        "type(faturamento)"
      ]
    },
    {
      "cell_type": "code",
      "execution_count": null,
      "metadata": {
        "id": "a50in8zFu4Te",
        "outputId": "64aafaab-bc26-47b1-fe73-e219742e9cb3"
      },
      "outputs": [
        {
          "data": {
            "text/plain": [
              "str"
            ]
          },
          "execution_count": 3,
          "metadata": {},
          "output_type": "execute_result"
        }
      ],
      "source": [
        "faturamento = '1.000'\n",
        "type(faturamento)"
      ]
    },
    {
      "cell_type": "code",
      "execution_count": null,
      "metadata": {
        "id": "87q_D_uiu4Tf",
        "outputId": "271d7127-c395-428e-b0bc-1b86c0d1db75"
      },
      "outputs": [
        {
          "data": {
            "text/plain": [
              "bool"
            ]
          },
          "execution_count": 4,
          "metadata": {},
          "output_type": "execute_result"
        }
      ],
      "source": [
        "ganha_bonus = True\n",
        "type(ganha_bonus)"
      ]
    },
    {
      "cell_type": "code",
      "execution_count": null,
      "metadata": {
        "id": "9LOBjg8Fu4Tf"
      },
      "outputs": [],
      "source": [
        ""
      ]
    }
  ],
  "metadata": {
    "kernelspec": {
      "display_name": "Python 3",
      "language": "python",
      "name": "python3"
    },
    "language_info": {
      "codemirror_mode": {
        "name": "ipython",
        "version": 3
      },
      "file_extension": ".py",
      "mimetype": "text/x-python",
      "name": "python",
      "nbconvert_exporter": "python",
      "pygments_lexer": "ipython3",
      "version": "3.8.3"
    },
    "colab": {
      "name": "Tipos de Variáveis.ipynb",
      "provenance": [],
      "include_colab_link": true
    }
  },
  "nbformat": 4,
  "nbformat_minor": 0
}